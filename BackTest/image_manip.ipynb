{
 "cells": [
  {
   "cell_type": "code",
   "execution_count": 2,
   "metadata": {},
   "outputs": [],
   "source": [
    "import numpy as np\n",
    "import matplotlib.pyplot as plt\n",
    "import torch\n",
    "import tqdm"
   ]
  },
  {
   "cell_type": "code",
   "execution_count": 4,
   "metadata": {},
   "outputs": [],
   "source": [
    "f = np.load('/home/user/github/portfolio-manager/BackTest/inputs.npz')"
   ]
  },
  {
   "cell_type": "code",
   "execution_count": 5,
   "metadata": {},
   "outputs": [
    {
     "data": {
      "text/plain": [
       "['arr_0', 'arr_1']"
      ]
     },
     "execution_count": 5,
     "metadata": {},
     "output_type": "execute_result"
    }
   ],
   "source": [
    "f.files"
   ]
  },
  {
   "cell_type": "code",
   "execution_count": 6,
   "metadata": {},
   "outputs": [],
   "source": [
    "Xs, ys = f['arr_0'], f['arr_1']"
   ]
  },
  {
   "cell_type": "code",
   "execution_count": 7,
   "metadata": {},
   "outputs": [
    {
     "data": {
      "text/plain": [
       "(array([1.170000e+02, 2.672400e+04, 1.045875e+06, 3.941000e+03,\n",
       "        1.340000e+02, 2.700000e+01, 7.000000e+00, 1.000000e+00,\n",
       "        1.000000e+00, 1.000000e+00]),\n",
       " array([-0.8580644 , -0.48589471, -0.11372503,  0.25844465,  0.63061433,\n",
       "         1.00278402,  1.3749537 ,  1.74712338,  2.11929307,  2.49146275,\n",
       "         2.86363243]),\n",
       " <BarContainer object of 10 artists>)"
      ]
     },
     "execution_count": 7,
     "metadata": {},
     "output_type": "execute_result"
    },
    {
     "data": {
      "image/png": "[encoded data removed]",
      "text/plain": [
       "<Figure size 640x480 with 1 Axes>"
      ]
     },
     "metadata": {},
     "output_type": "display_data"
    }
   ],
   "source": [
    "plt.hist(ys)"
   ]
  },
  {
   "cell_type": "code",
   "execution_count": 8,
   "metadata": {},
   "outputs": [
    {
     "data": {
      "text/plain": [
       "array([[[16.30069273]],\n",
       "\n",
       "       [[16.54861691]],\n",
       "\n",
       "       [[16.48663075]],\n",
       "\n",
       "       ...,\n",
       "\n",
       "       [[ 2.94881126]],\n",
       "\n",
       "       [[ 2.96140718]],\n",
       "\n",
       "       [[ 2.99461735]]])"
      ]
     },
     "execution_count": 8,
     "metadata": {},
     "output_type": "execute_result"
    }
   ],
   "source": [
    "Xs[:, 0, 1].reshape(-1, 1, 1)"
   ]
  },
  {
   "cell_type": "code",
   "execution_count": 9,
   "metadata": {},
   "outputs": [],
   "source": [
    "scales = Xs[:, 0, 1].reshape(-1, 1, 1).copy()\n",
    "Xs[:, :, [5]] /= scales\n",
    "Xs[:, :, :4] /= scales"
   ]
  },
  {
   "cell_type": "code",
   "execution_count": null,
   "metadata": {},
   "outputs": [],
   "source": [
    "for i in range(4):\n",
    "    plt.plot(Xs[399950, :, i])\n",
    "plt.plot(Xs[399950, :, 5])    "
   ]
  },
  {
   "cell_type": "code",
   "execution_count": 10,
   "metadata": {},
   "outputs": [],
   "source": [
    "def bresenham(img, x0, y0, x1, y1):\n",
    "    dx = abs(x1 - x0)\n",
    "    sx = 1 if x0 < x1 else -1 \n",
    "    dy = -abs(y1 - y0)\n",
    "    sy = 1 if y0 < y1 else -1\n",
    "    error = dx + dy\n",
    "\n",
    "    while True:\n",
    "        img[x0, y0] = 255\n",
    "        if x0 == x1 and y0 == y1:\n",
    "            break\n",
    "        e2 = 2 * error\n",
    "        if e2 >= dy:\n",
    "            if x0 == x1:\n",
    "                break \n",
    "            error += dy\n",
    "            x0 += sx\n",
    "        if e2 <= dx:\n",
    "            if y0 == y1:\n",
    "                break\n",
    "            error += dx\n",
    "            y0 += sy\n",
    "\n",
    "def make_image(sample, ema=True, volume=True):\n",
    "    height_bars = 96\n",
    "    width = sample.shape[0] * 3\n",
    "    img_ohlc = np.zeros((width, height_bars), dtype=np.uint8)\n",
    "\n",
    "    max_price = max(sample[:, :4].max(), sample[:, 5].max())\n",
    "    min_price = min(sample[:, :4].min(), sample[:, 5].min())\n",
    "    height_scaler = (height_bars - 1) / (max_price - min_price)\n",
    "\n",
    "    ema_y_prev = None\n",
    "\n",
    "    for t in range(sample.shape[0]):\n",
    "        open_y = round((sample[t, 1] - min_price) * height_scaler)\n",
    "        img_ohlc[3*t, open_y] = 255\n",
    "        close_y = round((sample[t, 0] - min_price) * height_scaler)\n",
    "        img_ohlc[3*t+2, close_y] = 255\n",
    "\n",
    "        low_y = round((sample[t, 3] - min_price) * height_scaler)\n",
    "        high_y = round((sample[t, 2] - min_price) * height_scaler)\n",
    "        img_ohlc[3*t+1, low_y:high_y] = 255\n",
    "\n",
    "        if ema:\n",
    "            ema_y = round((sample[t, 5] - min_price) * height_scaler)\n",
    "            img_ohlc[3*t+1, ema_y] = 255\n",
    "            if ema_y_prev is not None:\n",
    "                bresenham(img_ohlc, 3*t-2, ema_y_prev, 3*t+1, ema_y)\n",
    "            ema_y_prev = ema_y\n",
    "\n",
    "    if not volume:\n",
    "        return img_ohlc.T\n",
    "    \n",
    "    height_vol = 24\n",
    "    height_whole = height_bars + height_vol if volume else 0\n",
    "    img_whole = np.zeros((width, height_whole), dtype=np.uint8)\n",
    "    img_whole[:, :height_bars] = img_ohlc\n",
    "\n",
    "    max_vol = sample[:, 4].max()\n",
    "    vol_scaler = (height_vol - 1)/max_vol \n",
    "    for t in range(sample.shape[0]):\n",
    "        vol_y = round(sample[t, 4] * vol_scaler)\n",
    "        img_whole[3*t+1, height_whole-vol_y-1:height_whole-1] = 255\n",
    "\n",
    "    return img_whole.T\n",
    "\n"
   ]
  },
  {
   "cell_type": "code",
   "execution_count": 11,
   "metadata": {},
   "outputs": [],
   "source": [
    "class StockCNN(torch.nn.Module):\n",
    "    def __init__(self):\n",
    "        super().__init__()\n",
    "        self.block1 = torch.nn.Sequential(\n",
    "            torch.nn.Conv2d(1, 64, kernel_size=(5, 3), padding=1),\n",
    "            torch.nn.LeakyReLU(negative_slope=0.01, inplace=True),\n",
    "            torch.nn.MaxPool2d((2, 1))\n",
    "        )\n",
    "        self.block2 = torch.nn.Sequential(\n",
    "            torch.nn.Conv2d(64, 128, kernel_size=(5, 3), padding=1),\n",
    "            torch.nn.LeakyReLU(negative_slope=0.01, inplace=True),\n",
    "            torch.nn.MaxPool2d((2, 1))\n",
    "        )\n",
    "        self.out_block = torch.nn.Sequential(\n",
    "            torch.nn.Flatten(),\n",
    "            torch.nn.Linear(161280, 2),\n",
    "            torch.nn.Softmax(dim=-1))\n",
    "\n",
    "    def forward(self, x):\n",
    "        x = self.block1(x)\n",
    "        x = self.block2(x)\n",
    "        x = self.out_block(x)\n",
    "        return x"
   ]
  },
  {
   "cell_type": "code",
   "execution_count": 12,
   "metadata": {},
   "outputs": [],
   "source": [
    "ys_pt = torch.LongTensor(ys > 0)\n",
    "xs_pt = torch.zeros(size=(Xs.shape[0], 120, 45), dtype=torch.uint8)"
   ]
  },
  {
   "cell_type": "code",
   "execution_count": 13,
   "metadata": {},
   "outputs": [],
   "source": [
    "for i in range(Xs.shape[0]):\n",
    "    xs_pt[i] = torch.tensor(make_image(Xs[i]))"
   ]
  },
  {
   "cell_type": "code",
   "execution_count": 14,
   "metadata": {},
   "outputs": [
    {
     "data": {
      "text/plain": [
       "True"
      ]
     },
     "execution_count": 14,
     "metadata": {},
     "output_type": "execute_result"
    }
   ],
   "source": [
    "torch.cuda.is_available()"
   ]
  },
  {
   "cell_type": "code",
   "execution_count": 15,
   "metadata": {},
   "outputs": [],
   "source": [
    "split_idx = round(ys_pt.shape[0] * 0.85)\n",
    "ys_train, ys_valid = ys_pt[:split_idx], ys_pt[split_idx:]\n",
    "xs_train, xs_valid = xs_pt[:split_idx], xs_pt[split_idx:]"
   ]
  },
  {
   "cell_type": "code",
   "execution_count": 16,
   "metadata": {},
   "outputs": [
    {
     "name": "stdout",
     "output_type": "stream",
     "text": [
      "Epoch 1: Train(0.691105673861927, 52.80), Valid(0.6896978617186781, 53.60)\n",
      "Epoch 2: Train(0.6897121509077365, 53.39), Valid(0.689527026163606, 53.70)\n",
      "Epoch 3: Train(0.6879038630357374, 54.12), Valid(0.6904789789826292, 52.91)\n"
     ]
    },
    {
     "ename": "KeyboardInterrupt",
     "evalue": "",
     "output_type": "error",
     "traceback": [
      "\u001b[0;31m---------------------------------------------------------------------------\u001b[0m",
      "\u001b[0;31mKeyboardInterrupt\u001b[0m                         Traceback (most recent call last)",
      "Cell \u001b[0;32mIn[16], line 42\u001b[0m\n\u001b[1;32m     38\u001b[0m     train_n_total \u001b[39m+\u001b[39m\u001b[39m=\u001b[39m y_hat\u001b[39m.\u001b[39mshape[\u001b[39m0\u001b[39m]\n\u001b[1;32m     41\u001b[0m     \u001b[39m# print(f'Loss={loss.cpu().item()}, {(torch.argmax(y_hat, dim=-1) == ys).sum().cpu().item()/y_hat.shape[0]}')\u001b[39;00m\n\u001b[0;32m---> 42\u001b[0m     opt\u001b[39m.\u001b[39;49mstep()\n\u001b[1;32m     44\u001b[0m valid_total_loss \u001b[39m=\u001b[39m \u001b[39m0\u001b[39m\n\u001b[1;32m     45\u001b[0m valid_n_batches \u001b[39m=\u001b[39m \u001b[39m0\u001b[39m\n",
      "File \u001b[0;32m~/mambaforge/envs/tensorml/lib/python3.10/site-packages/torch/optim/optimizer.py:269\u001b[0m, in \u001b[0;36mOptimizer.profile_hook_step.<locals>.wrapper\u001b[0;34m(*args, **kwargs)\u001b[0m\n\u001b[1;32m    267\u001b[0m \u001b[39mself\u001b[39m, \u001b[39m*\u001b[39m_ \u001b[39m=\u001b[39m args\n\u001b[1;32m    268\u001b[0m profile_name \u001b[39m=\u001b[39m \u001b[39m\"\u001b[39m\u001b[39mOptimizer.step#\u001b[39m\u001b[39m{}\u001b[39;00m\u001b[39m.step\u001b[39m\u001b[39m\"\u001b[39m\u001b[39m.\u001b[39mformat(\u001b[39mself\u001b[39m\u001b[39m.\u001b[39m\u001b[39m__class__\u001b[39m\u001b[39m.\u001b[39m\u001b[39m__name__\u001b[39m)\n\u001b[0;32m--> 269\u001b[0m \u001b[39mwith\u001b[39;00m torch\u001b[39m.\u001b[39;49mautograd\u001b[39m.\u001b[39;49mprofiler\u001b[39m.\u001b[39;49mrecord_function(profile_name):\n\u001b[1;32m    270\u001b[0m     \u001b[39m# call optimizer step pre hooks\u001b[39;00m\n\u001b[1;32m    271\u001b[0m     \u001b[39mfor\u001b[39;00m pre_hook \u001b[39min\u001b[39;00m chain(_global_optimizer_pre_hooks\u001b[39m.\u001b[39mvalues(), \u001b[39mself\u001b[39m\u001b[39m.\u001b[39m_optimizer_step_pre_hooks\u001b[39m.\u001b[39mvalues()):\n\u001b[1;32m    272\u001b[0m         result \u001b[39m=\u001b[39m pre_hook(\u001b[39mself\u001b[39m, args, kwargs)\n",
      "File \u001b[0;32m~/mambaforge/envs/tensorml/lib/python3.10/site-packages/torch/autograd/profiler.py:482\u001b[0m, in \u001b[0;36mrecord_function.__init__\u001b[0;34m(self, name, args)\u001b[0m\n\u001b[1;32m    446\u001b[0m \u001b[39mclass\u001b[39;00m \u001b[39mrecord_function\u001b[39;00m(_ContextDecorator):\n\u001b[1;32m    447\u001b[0m \u001b[39m    \u001b[39m\u001b[39m\"\"\"Context manager/function decorator that adds a label to a block of\u001b[39;00m\n\u001b[1;32m    448\u001b[0m \u001b[39m    Python code (or function) when running autograd profiler. It is\u001b[39;00m\n\u001b[1;32m    449\u001b[0m \u001b[39m    useful when tracing the code profile.\u001b[39;00m\n\u001b[0;32m   (...)\u001b[0m\n\u001b[1;32m    480\u001b[0m \n\u001b[1;32m    481\u001b[0m \u001b[39m    \"\"\"\u001b[39;00m\n\u001b[0;32m--> 482\u001b[0m     \u001b[39mdef\u001b[39;00m \u001b[39m__init__\u001b[39m(\u001b[39mself\u001b[39m, name: \u001b[39mstr\u001b[39m, args: Optional[\u001b[39mstr\u001b[39m] \u001b[39m=\u001b[39m \u001b[39mNone\u001b[39;00m):\n\u001b[1;32m    483\u001b[0m         \u001b[39mself\u001b[39m\u001b[39m.\u001b[39mname: \u001b[39mstr\u001b[39m \u001b[39m=\u001b[39m name\n\u001b[1;32m    484\u001b[0m         \u001b[39mself\u001b[39m\u001b[39m.\u001b[39margs: Optional[\u001b[39mstr\u001b[39m] \u001b[39m=\u001b[39m args\n",
      "\u001b[0;31mKeyboardInterrupt\u001b[0m: "
     ]
    },
    {
     "ename": "",
     "evalue": "",
     "output_type": "error",
     "traceback": [
      "\u001b[1;31mThe Kernel crashed while executing code in the the current cell or a previous cell. Please review the code in the cell(s) to identify a possible cause of the failure. Click <a href='https://aka.ms/vscodeJupyterKernelCrash'>here</a> for more info. View Jupyter <a href='command:jupyter.viewOutput'>log</a> for further details."
     ]
    }
   ],
   "source": [
    "ds_train = torch.utils.data.TensorDataset(xs_train, ys_train)\n",
    "ds_valid = torch.utils.data.TensorDataset(xs_valid, ys_valid)\n",
    "\n",
    "BATCH_SIZE = 128\n",
    "EPOCHS = 100\n",
    "LEARNING_RATE = 1e-4\n",
    "DEVICE = 'cuda:0'\n",
    "\n",
    "m = StockCNN()\n",
    "m = m.to(DEVICE)\n",
    "m = torch.nn.DataParallel(m)\n",
    "opt = torch.optim.Adam(m.parameters(), lr=LEARNING_RATE)\n",
    "loss_fn = torch.nn.CrossEntropyLoss()\n",
    "\n",
    "# ds_train_bs = torch.utils.data.TensorDataset(xs_train[:BATCH_SIZE], ys_train[:BATCH_SIZE])\n",
    "\n",
    "dl_train = torch.utils.data.DataLoader(ds_train, batch_size=BATCH_SIZE, shuffle=True)\n",
    "dl_valid = torch.utils.data.DataLoader(ds_valid, batch_size=BATCH_SIZE, shuffle=True)\n",
    "\n",
    "for ep in range(EPOCHS):\n",
    "    train_total_loss = 0\n",
    "    train_n_batches = 0\n",
    "    train_n_hits = 0\n",
    "    train_n_total = 0\n",
    "\n",
    "    for xs, ys in dl_train:\n",
    "        xs = xs.to(DEVICE)\n",
    "        xs = xs.unsqueeze(1).float() / 255.0\n",
    "        ys = ys.to(DEVICE).squeeze()\n",
    "        opt.zero_grad()\n",
    "        y_hat = m(xs)\n",
    "        loss = loss_fn(y_hat, ys)\n",
    "        loss.backward()\n",
    "\n",
    "        train_total_loss += loss.cpu().item()\n",
    "        train_n_batches += 1\n",
    "        train_n_hits += (torch.argmax(y_hat, dim=-1) == ys).sum().cpu().item()\n",
    "        train_n_total += y_hat.shape[0]\n",
    "\n",
    "\n",
    "        # print(f'Loss={loss.cpu().item()}, {(torch.argmax(y_hat, dim=-1) == ys).sum().cpu().item()/y_hat.shape[0]}')\n",
    "        opt.step()\n",
    "\n",
    "    valid_total_loss = 0\n",
    "    valid_n_batches = 0\n",
    "    valid_n_hits = 0\n",
    "    valid_n_total = 0\n",
    "\n",
    "    with torch.inference_mode():\n",
    "        for xs, ys in dl_valid:\n",
    "            xs = xs.to(DEVICE)\n",
    "            xs = xs.unsqueeze(1).float() / 255.0\n",
    "            ys = ys.to(DEVICE).squeeze()\n",
    "            y_hat = m(xs)\n",
    "            loss = loss_fn(y_hat, ys)\n",
    "            \n",
    "            valid_total_loss += loss.cpu().item()\n",
    "            valid_n_batches += 1\n",
    "            valid_n_hits += (torch.argmax(y_hat, dim=-1) == ys).sum().cpu().item()\n",
    "            valid_n_total += y_hat.shape[0]     \n",
    "\n",
    "    print(f'Epoch {ep+1}: Train({train_total_loss/train_n_batches}, {100.0 * train_n_hits/train_n_total:.2f}), Valid({valid_total_loss/valid_n_batches}, {100.0 * valid_n_hits/valid_n_total:.2f})')       \n"
   ]
  },
  {
   "cell_type": "code",
   "execution_count": null,
   "metadata": {},
   "outputs": [],
   "source": [
    "print('Test')"
   ]
  },
  {
   "cell_type": "code",
   "execution_count": null,
   "metadata": {},
   "outputs": [],
   "source": [
    "plt.imshow(xs[0, 0].cpu().numpy())"
   ]
  },
  {
   "cell_type": "code",
   "execution_count": null,
   "metadata": {},
   "outputs": [],
   "source": [
    "ys"
   ]
  },
  {
   "cell_type": "code",
   "execution_count": null,
   "metadata": {},
   "outputs": [],
   "source": [
    "y_hat.shape"
   ]
  },
  {
   "cell_type": "code",
   "execution_count": null,
   "metadata": {},
   "outputs": [],
   "source": [
    "ys.shape"
   ]
  },
  {
   "cell_type": "code",
   "execution_count": null,
   "metadata": {},
   "outputs": [],
   "source": [
    "loss_fn(y_hat, ys.squeeze())"
   ]
  },
  {
   "cell_type": "code",
   "execution_count": null,
   "metadata": {},
   "outputs": [],
   "source": []
  },
  {
   "cell_type": "code",
   "execution_count": null,
   "metadata": {},
   "outputs": [],
   "source": []
  },
  {
   "cell_type": "code",
   "execution_count": null,
   "metadata": {},
   "outputs": [],
   "source": [
    "batch_pt = torch.stack([torch.FloatTensor(x)/255.0 for x in batch])\n",
    "batch_pt = batch_pt.unsqueeze(dim=1)"
   ]
  },
  {
   "cell_type": "code",
   "execution_count": null,
   "metadata": {},
   "outputs": [],
   "source": [
    "batch_pt.shape"
   ]
  },
  {
   "cell_type": "code",
   "execution_count": null,
   "metadata": {},
   "outputs": [],
   "source": [
    "\n",
    "r = m(batch_pt)"
   ]
  },
  {
   "cell_type": "code",
   "execution_count": null,
   "metadata": {},
   "outputs": [],
   "source": [
    "\n"
   ]
  },
  {
   "cell_type": "code",
   "execution_count": null,
   "metadata": {},
   "outputs": [],
   "source": [
    "r.shape"
   ]
  },
  {
   "cell_type": "code",
   "execution_count": null,
   "metadata": {},
   "outputs": [],
   "source": [
    "128 * 28 * 45"
   ]
  },
  {
   "cell_type": "code",
   "execution_count": null,
   "metadata": {},
   "outputs": [],
   "source": [
    "batch_pt.shape"
   ]
  },
  {
   "cell_type": "code",
   "execution_count": null,
   "metadata": {},
   "outputs": [],
   "source": []
  },
  {
   "cell_type": "code",
   "execution_count": null,
   "metadata": {},
   "outputs": [],
   "source": [
    "(1.0579706111328149 - 0.9999994104739358) * 1655.9946819955387"
   ]
  },
  {
   "cell_type": "code",
   "execution_count": null,
   "metadata": {},
   "outputs": [],
   "source": [
    "max_price = max(x[:, :4].max(), x[:, 5].max())\n",
    "min_price = min(x[:, :4].min(), x[:, 5].min())"
   ]
  },
  {
   "cell_type": "code",
   "execution_count": null,
   "metadata": {},
   "outputs": [],
   "source": [
    "max_price"
   ]
  },
  {
   "cell_type": "code",
   "execution_count": null,
   "metadata": {},
   "outputs": [],
   "source": [
    "min_price"
   ]
  },
  {
   "cell_type": "code",
   "execution_count": null,
   "metadata": {},
   "outputs": [],
   "source": [
    "x"
   ]
  },
  {
   "cell_type": "code",
   "execution_count": null,
   "metadata": {},
   "outputs": [],
   "source": [
    "plt.imshow(make_image(x))"
   ]
  },
  {
   "cell_type": "code",
   "execution_count": null,
   "metadata": {},
   "outputs": [],
   "source": [
    "plt.imshow(make_image(Xs[1843]))"
   ]
  },
  {
   "cell_type": "code",
   "execution_count": null,
   "metadata": {},
   "outputs": [],
   "source": [
    "plt.imshow(make_image(Xs[18343]))"
   ]
  },
  {
   "cell_type": "code",
   "execution_count": null,
   "metadata": {},
   "outputs": [],
   "source": [
    "price_series = np.cumprod(Xs2 + 1, axis=-1)"
   ]
  },
  {
   "cell_type": "code",
   "execution_count": null,
   "metadata": {},
   "outputs": [],
   "source": [
    "Xs[:10]"
   ]
  },
  {
   "cell_type": "code",
   "execution_count": null,
   "metadata": {},
   "outputs": [],
   "source": []
  }
 ],
 "metadata": {
  "kernelspec": {
   "display_name": "Python 3",
   "language": "python",
   "name": "python3"
  },
  "language_info": {
   "codemirror_mode": {
    "name": "ipython",
    "version": 3
   },
   "file_extension": ".py",
   "mimetype": "text/x-python",
   "name": "python",
   "nbconvert_exporter": "python",
   "pygments_lexer": "ipython3",
   "version": "3.10.12"
  },
  "orig_nbformat": 4
 },
 "nbformat": 4,
 "nbformat_minor": 2
}
